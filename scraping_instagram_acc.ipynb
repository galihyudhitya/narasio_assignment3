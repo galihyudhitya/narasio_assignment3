{
 "cells": [
  {
   "cell_type": "markdown",
   "metadata": {},
   "source": [
    "### Import Library"
   ]
  },
  {
   "cell_type": "code",
   "execution_count": 2,
   "metadata": {},
   "outputs": [],
   "source": [
    "from selenium import webdriver\n",
    "from bs4 import BeautifulSoup\n",
    "import re\n",
    "import pandas as pd"
   ]
  },
  {
   "cell_type": "markdown",
   "metadata": {},
   "source": [
    "### Define Variable dan Pattern Regex"
   ]
  },
  {
   "cell_type": "code",
   "execution_count": 3,
   "metadata": {},
   "outputs": [],
   "source": [
    "# Membuat variable list yang akan digunakan, yaitu username, names, account, followers, dan followings\n",
    "\n",
    "username = ['narasiodata', 'lifeatbri', 'bri.corpu', 'bridanareksa', 'bankbri_id', 'liga1match']\n",
    "name = []\n",
    "account = []\n",
    "follower = []\n",
    "following = []\n",
    "email = []\n",
    "\n",
    "# Pattern regex untuk mengambil nama pemilik akun\n",
    "pattern = r'^([^()]+)'"
   ]
  },
  {
   "cell_type": "markdown",
   "metadata": {},
   "source": [
    "### Scraping Data Instagram"
   ]
  },
  {
   "cell_type": "code",
   "execution_count": null,
   "metadata": {},
   "outputs": [],
   "source": [
    "for uname in username:\n",
    "    # Menajalankan webdriver dan membuka link akun\n",
    "    browser = webdriver.Edge()\n",
    "    browser.get('https://www.instagram.com/'+uname)\n",
    "    Pagelength = browser.execute_script(\"window.scrollTo(0, document.body.scrollHeight);\")\n",
    "\n",
    "    # Mengambil sumber html dan melakukan parsing menggunakan BeautifulSoup\n",
    "    source = browser.page_source\n",
    "    data = BeautifulSoup(source, 'html.parser')\n",
    "\n",
    "    # Mengambil data nama pemilik akun dari tag <meta> dengan property 'og:title'\n",
    "    title = data.find('meta', property='og:title').get('content')\n",
    "    # Mengambil data nama pemilik menggunakan regex\n",
    "    name_rematch = re.match(pattern, title).group().rstrip()\n",
    "    name.append(name_rematch)\n",
    "    email.append(name_rematch.replace(' ', '').lower()+'@gmail.com')\n",
    "\n",
    "    # Mengambil informasi follower, following, serta beberapa deskripsi dari akun\n",
    "    desc = data.find('meta', property='og:description').get('content').split(',')\n",
    "    \n",
    "    account.append('https://www.instagram.com/'+uname)\n",
    "    follower.append(desc[0])\n",
    "    following.append(desc[1])\n",
    "\n",
    "# Membentuk dataframe yang berisi informasi akun yang telah di scrape\n",
    "data = {'Name':name, 'Email':email, 'Instagram_account':account, 'Follower':follower, 'Following':following}\n",
    "df = pd.DataFrame(data)\n",
    "\n",
    "browser.close()"
   ]
  },
  {
   "cell_type": "code",
   "execution_count": 4,
   "metadata": {},
   "outputs": [
    {
     "data": {
      "text/html": [
       "<div>\n",
       "<style scoped>\n",
       "    .dataframe tbody tr th:only-of-type {\n",
       "        vertical-align: middle;\n",
       "    }\n",
       "\n",
       "    .dataframe tbody tr th {\n",
       "        vertical-align: top;\n",
       "    }\n",
       "\n",
       "    .dataframe thead th {\n",
       "        text-align: right;\n",
       "    }\n",
       "</style>\n",
       "<table border=\"1\" class=\"dataframe\">\n",
       "  <thead>\n",
       "    <tr style=\"text-align: right;\">\n",
       "      <th></th>\n",
       "      <th>Name</th>\n",
       "      <th>Email</th>\n",
       "      <th>Instagram_account</th>\n",
       "      <th>Follower</th>\n",
       "      <th>Following</th>\n",
       "    </tr>\n",
       "  </thead>\n",
       "  <tbody>\n",
       "    <tr>\n",
       "      <th>0</th>\n",
       "      <td>NARASIO DATA</td>\n",
       "      <td>narasiodata@gmail.com</td>\n",
       "      <td>https://www.instagram.com/narasiodata</td>\n",
       "      <td>23K Followers</td>\n",
       "      <td>9 Following</td>\n",
       "    </tr>\n",
       "    <tr>\n",
       "      <th>1</th>\n",
       "      <td>Life at BRI</td>\n",
       "      <td>lifeatbri@gmail.com</td>\n",
       "      <td>https://www.instagram.com/lifeatbri</td>\n",
       "      <td>139K Followers</td>\n",
       "      <td>105 Following</td>\n",
       "    </tr>\n",
       "    <tr>\n",
       "      <th>2</th>\n",
       "      <td>BRI Corporate University</td>\n",
       "      <td>bricorporateuniversity@gmail.com</td>\n",
       "      <td>https://www.instagram.com/bri.corpu</td>\n",
       "      <td>21K Followers</td>\n",
       "      <td>481 Following</td>\n",
       "    </tr>\n",
       "    <tr>\n",
       "      <th>3</th>\n",
       "      <td>BRI Danareksa Sekuritas</td>\n",
       "      <td>bridanareksasekuritas@gmail.com</td>\n",
       "      <td>https://www.instagram.com/bridanareksa</td>\n",
       "      <td>36K Followers</td>\n",
       "      <td>46 Following</td>\n",
       "    </tr>\n",
       "    <tr>\n",
       "      <th>4</th>\n",
       "      <td>BANK BRI</td>\n",
       "      <td>bankbri@gmail.com</td>\n",
       "      <td>https://www.instagram.com/bankbri_id</td>\n",
       "      <td>1M Followers</td>\n",
       "      <td>29 Following</td>\n",
       "    </tr>\n",
       "  </tbody>\n",
       "</table>\n",
       "</div>"
      ],
      "text/plain": [
       "                       Name                             Email  \\\n",
       "0              NARASIO DATA             narasiodata@gmail.com   \n",
       "1               Life at BRI               lifeatbri@gmail.com   \n",
       "2  BRI Corporate University  bricorporateuniversity@gmail.com   \n",
       "3   BRI Danareksa Sekuritas   bridanareksasekuritas@gmail.com   \n",
       "4                  BANK BRI                 bankbri@gmail.com   \n",
       "\n",
       "                        Instagram_account        Follower       Following  \n",
       "0   https://www.instagram.com/narasiodata   23K Followers     9 Following  \n",
       "1     https://www.instagram.com/lifeatbri  139K Followers   105 Following  \n",
       "2     https://www.instagram.com/bri.corpu   21K Followers   481 Following  \n",
       "3  https://www.instagram.com/bridanareksa   36K Followers    46 Following  \n",
       "4    https://www.instagram.com/bankbri_id    1M Followers    29 Following  "
      ]
     },
     "execution_count": 4,
     "metadata": {},
     "output_type": "execute_result"
    }
   ],
   "source": [
    "df.head()"
   ]
  },
  {
   "cell_type": "markdown",
   "metadata": {},
   "source": [
    "### Save as to CSV"
   ]
  },
  {
   "cell_type": "code",
   "execution_count": 5,
   "metadata": {},
   "outputs": [],
   "source": [
    "df.to_csv('data_user.csv')"
   ]
  },
  {
   "cell_type": "markdown",
   "metadata": {},
   "source": [
    "### Read CSV File"
   ]
  },
  {
   "cell_type": "code",
   "execution_count": 6,
   "metadata": {},
   "outputs": [
    {
     "data": {
      "text/html": [
       "<div>\n",
       "<style scoped>\n",
       "    .dataframe tbody tr th:only-of-type {\n",
       "        vertical-align: middle;\n",
       "    }\n",
       "\n",
       "    .dataframe tbody tr th {\n",
       "        vertical-align: top;\n",
       "    }\n",
       "\n",
       "    .dataframe thead th {\n",
       "        text-align: right;\n",
       "    }\n",
       "</style>\n",
       "<table border=\"1\" class=\"dataframe\">\n",
       "  <thead>\n",
       "    <tr style=\"text-align: right;\">\n",
       "      <th></th>\n",
       "      <th>Unnamed: 0</th>\n",
       "      <th>Name</th>\n",
       "      <th>Email</th>\n",
       "      <th>Instagram_account</th>\n",
       "      <th>Follower</th>\n",
       "      <th>Following</th>\n",
       "    </tr>\n",
       "  </thead>\n",
       "  <tbody>\n",
       "    <tr>\n",
       "      <th>0</th>\n",
       "      <td>0</td>\n",
       "      <td>NARASIO DATA</td>\n",
       "      <td>narasiodata@gmail.com</td>\n",
       "      <td>https://www.instagram.com/narasiodata</td>\n",
       "      <td>23K Followers</td>\n",
       "      <td>9 Following</td>\n",
       "    </tr>\n",
       "    <tr>\n",
       "      <th>1</th>\n",
       "      <td>1</td>\n",
       "      <td>Life at BRI</td>\n",
       "      <td>lifeatbri@gmail.com</td>\n",
       "      <td>https://www.instagram.com/lifeatbri</td>\n",
       "      <td>139K Followers</td>\n",
       "      <td>105 Following</td>\n",
       "    </tr>\n",
       "    <tr>\n",
       "      <th>2</th>\n",
       "      <td>2</td>\n",
       "      <td>BRI Corporate University</td>\n",
       "      <td>bricorporateuniversity@gmail.com</td>\n",
       "      <td>https://www.instagram.com/bri.corpu</td>\n",
       "      <td>21K Followers</td>\n",
       "      <td>481 Following</td>\n",
       "    </tr>\n",
       "    <tr>\n",
       "      <th>3</th>\n",
       "      <td>3</td>\n",
       "      <td>BRI Danareksa Sekuritas</td>\n",
       "      <td>bridanareksasekuritas@gmail.com</td>\n",
       "      <td>https://www.instagram.com/bridanareksa</td>\n",
       "      <td>36K Followers</td>\n",
       "      <td>46 Following</td>\n",
       "    </tr>\n",
       "    <tr>\n",
       "      <th>4</th>\n",
       "      <td>4</td>\n",
       "      <td>BANK BRI</td>\n",
       "      <td>bankbri@gmail.com</td>\n",
       "      <td>https://www.instagram.com/bankbri_id</td>\n",
       "      <td>1M Followers</td>\n",
       "      <td>29 Following</td>\n",
       "    </tr>\n",
       "    <tr>\n",
       "      <th>5</th>\n",
       "      <td>5</td>\n",
       "      <td>BRI Liga 1</td>\n",
       "      <td>briliga1@gmail.com</td>\n",
       "      <td>https://www.instagram.com/liga1match</td>\n",
       "      <td>4M Followers</td>\n",
       "      <td>29 Following</td>\n",
       "    </tr>\n",
       "  </tbody>\n",
       "</table>\n",
       "</div>"
      ],
      "text/plain": [
       "   Unnamed: 0                      Name                             Email  \\\n",
       "0           0              NARASIO DATA             narasiodata@gmail.com   \n",
       "1           1               Life at BRI               lifeatbri@gmail.com   \n",
       "2           2  BRI Corporate University  bricorporateuniversity@gmail.com   \n",
       "3           3   BRI Danareksa Sekuritas   bridanareksasekuritas@gmail.com   \n",
       "4           4                  BANK BRI                 bankbri@gmail.com   \n",
       "5           5                BRI Liga 1                briliga1@gmail.com   \n",
       "\n",
       "                        Instagram_account        Follower       Following  \n",
       "0   https://www.instagram.com/narasiodata   23K Followers     9 Following  \n",
       "1     https://www.instagram.com/lifeatbri  139K Followers   105 Following  \n",
       "2     https://www.instagram.com/bri.corpu   21K Followers   481 Following  \n",
       "3  https://www.instagram.com/bridanareksa   36K Followers    46 Following  \n",
       "4    https://www.instagram.com/bankbri_id    1M Followers    29 Following  \n",
       "5    https://www.instagram.com/liga1match    4M Followers    29 Following  "
      ]
     },
     "execution_count": 6,
     "metadata": {},
     "output_type": "execute_result"
    }
   ],
   "source": [
    "data_user = pd.read_csv('data_user.csv')\n",
    "\n",
    "data_user"
   ]
  }
 ],
 "metadata": {
  "kernelspec": {
   "display_name": "env",
   "language": "python",
   "name": "python3"
  },
  "language_info": {
   "codemirror_mode": {
    "name": "ipython",
    "version": 3
   },
   "file_extension": ".py",
   "mimetype": "text/x-python",
   "name": "python",
   "nbconvert_exporter": "python",
   "pygments_lexer": "ipython3",
   "version": "3.10.9"
  },
  "orig_nbformat": 4
 },
 "nbformat": 4,
 "nbformat_minor": 2
}
